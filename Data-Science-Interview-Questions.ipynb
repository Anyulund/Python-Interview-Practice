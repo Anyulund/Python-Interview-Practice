{
 "cells": [
  {
   "cell_type": "markdown",
   "metadata": {},
   "source": [
    "# DS and alogithms\n",
    "\n",
    "All questions are taken from this repo:  https://syedmisbah.github.io/datascienceinterviewsoverview.html\n",
    "\n",
    "Knowledge in DS and alogithms is as important for Data Science as knowledge in Machine Learning. So you may get the same type of questions as for any software developer position, but possibly with lower expectations on your answers.\n",
    "\n",
    "1. Given a list of timestamps in sequential order, return a list of lists grouped by weekly aggregation.\n",
    "2. Given a list of characters, a list of prior of probabilities for each character, and a matrix of probabilities for each character combination, return the optimal sequence for the highest probability.\n",
    "3. Given a log file with rows featuring a date, a number, and then a string of names, parse the log file and return the count of unique names aggregated by month.\n",
    "4. What is recursion?\n",
    "5. Write regular expression to match legal IP addresses\n",
    "6. Write any n log(n) sorting algorithm\n",
    "7. Implement a tail-recursive factorial function\n",
    "8. Find minimum of a rotated sorted array\n",
    "9. Write a function that tests whether two strings are anagrams\n",
    "10. Find duplicate lines in file. Do it in bash, in python, in mapreduce (your mapper function is fed lines of the file), in sql (the file is represented as a table with only one column “line”)\n",
    "11. An array contains n distinct numbers taken from 0, 1, 2, …, n, find the one that is missing from the array“content_actions” is a table that logs user activity.\n",
    "12. Write a function that takes an array, splits the array into every possible set of two arrays, and prints out the max differences between the two array’s minima in O(n) time.\n",
    "13. Given an array of integers, return indices of the two numbers such that they add up to a specific target.You may assume that each input would have exactly one solution, and you may not use the same element twice.\n",
    "14. Write a function to remove vowels from a string"
   ]
  },
  {
   "cell_type": "markdown",
   "metadata": {},
   "source": [
    "### 1. Given a list of timestamps in sequential order, return a list of lists grouped by weekly aggregation."
   ]
  },
  {
   "cell_type": "code",
   "execution_count": 5,
   "metadata": {},
   "outputs": [
    {
     "name": "stdout",
     "output_type": "stream",
     "text": [
      "        Date  Week\n",
      "0 2019-01-01     1\n",
      "1 2019-01-02     1\n",
      "2 2019-01-08     2\n",
      "3 2019-02-01     5\n",
      "4 2019-02-05     6\n",
      "Week\n",
      "1    [2019-01-01 00:00:00, 2019-01-02 00:00:00]\n",
      "2                         [2019-01-08 00:00:00]\n",
      "5                         [2019-02-01 00:00:00]\n",
      "6                         [2019-02-05 00:00:00]\n",
      "Name: Date, dtype: object\n"
     ]
    }
   ],
   "source": [
    "import pandas as pd\n",
    "\n",
    "ts = ['2019-01-01','2019-01-02','2019-01-08', '2019-02-01','2019-02-05']\n",
    "\n",
    "df1 = pd.DataFrame(ts, columns = ['Date'])                         # Convert list into a dataframe\n",
    "df1['Date']= pd.to_datetime(df1['Date'])                           # Convert dataframe to datetime\n",
    "df1['Week']=df1['Date'].dt.week                                    # Exctract week from dates\n",
    "result1 = df1.groupby('Week')['Date'].apply(list)                  # Group by weeek and then convert into a list\n",
    "\n",
    "\n",
    "print(df1)\n",
    "print(result1)"
   ]
  },
  {
   "cell_type": "markdown",
   "metadata": {},
   "source": [
    "### 2. Given a list of characters, a list of prior of probabilities for each character, and a matrix of probabilities for each character combination, return the optimal sequence for the highest probability."
   ]
  },
  {
   "cell_type": "markdown",
   "metadata": {},
   "source": [
    "### 3. Given a log file with rows featuring a date, a number, and then a string of names, parse the log file and return the count of unique names aggregated by month."
   ]
  },
  {
   "cell_type": "code",
   "execution_count": 6,
   "metadata": {},
   "outputs": [
    {
     "name": "stdout",
     "output_type": "stream",
     "text": [
      "Month\n",
      "08/2020    1\n",
      "10/2020    1\n",
      "Name: Name, dtype: int64\n"
     ]
    }
   ],
   "source": [
    "A = [['27/08/2020',6,'billie joe armstrong'],['22/10/2020',9,'robert plant']]\n",
    "\n",
    "df2 = pd.DataFrame(A, columns =['Date','Number','Name'])\n",
    "\n",
    "m1 = df2['Date'].str.split('/', n=1, expand =True)\n",
    "df2['Month'] = m1[1]\n",
    "\n",
    "result2 = df2.groupby('Month')['Name'].nunique()\n",
    "print(result2)"
   ]
  },
  {
   "cell_type": "markdown",
   "metadata": {},
   "source": [
    "### 4.What is recursion?"
   ]
  },
  {
   "cell_type": "markdown",
   "metadata": {},
   "source": [
    "### 5. Write regular expression to match legal IP addresses"
   ]
  },
  {
   "cell_type": "code",
   "execution_count": 8,
   "metadata": {},
   "outputs": [
    {
     "name": "stdout",
     "output_type": "stream",
     "text": [
      "(7, 22)\n",
      "168.212.226.204\n",
      "168.212.226.204\n"
     ]
    }
   ],
   "source": [
    "import re\n",
    "\n",
    "text = '123 anyulund@gmail.com 123'\n",
    "text2 = 'banana 168.212.226.204 cat'\n",
    "pattern = re.compile(r'[\\d]+\\.[\\d]+\\.[\\d]+\\.[\\d]+')\n",
    "\n",
    "matches = pattern.finditer(text2)\n",
    "for mat in matches:\n",
    "    print(mat.span(0))\n",
    "    print(mat.group(0))\n",
    "    print(text2[mat.span(0)[0]:mat.span(0)[1]])"
   ]
  },
  {
   "cell_type": "markdown",
   "metadata": {},
   "source": [
    "### 6. Write any n log(n) sorting algorithm"
   ]
  },
  {
   "cell_type": "markdown",
   "metadata": {},
   "source": [
    "### 7. Implement a tail-recursive factorial function"
   ]
  },
  {
   "cell_type": "markdown",
   "metadata": {},
   "source": [
    "### 8. Find minimum of a rotated sorted array\n",
    "\n",
    "Do binary search"
   ]
  },
  {
   "cell_type": "code",
   "execution_count": 20,
   "metadata": {},
   "outputs": [
    {
     "name": "stdout",
     "output_type": "stream",
     "text": [
      "0\n"
     ]
    }
   ],
   "source": [
    "B = [0,2,1,1,1,1,2,2,2,0,0]\n",
    "df8 = pd.Series(data = B)\n",
    "result8 = df8.min()\n",
    "\n",
    "print(result8)\n"
   ]
  },
  {
   "cell_type": "markdown",
   "metadata": {},
   "source": [
    "### 9. Write a function that tests whether two strings are anagrams\n",
    "\n",
    "San Diego = Diagnose"
   ]
  },
  {
   "cell_type": "markdown",
   "metadata": {},
   "source": [
    "#### Solution 1: For Loops and Inbuilt Sorted Function"
   ]
  },
  {
   "cell_type": "code",
   "execution_count": 27,
   "metadata": {},
   "outputs": [
    {
     "name": "stdout",
     "output_type": "stream",
     "text": [
      "The strings are anagrams.\n"
     ]
    }
   ],
   "source": [
    "s = ['San Diego', 'Diagnose']\n",
    "s1 = s[0]\n",
    "s2 = s[1]\n",
    "\n",
    "def check_anagram(s1,s2):\n",
    "    wl1 = s1.replace(' ','')\n",
    "    wl2 = s2.replace(' ','')\n",
    "  \n",
    "    if(sorted(wl1.lower())==sorted(wl2.lower())):\n",
    "          print(\"The strings are anagrams.\")\n",
    "    else:\n",
    "          print(\"The strings aren't anagrams.\")\n",
    "       \n",
    "\n",
    "check_anagram(s1,s2)"
   ]
  },
  {
   "cell_type": "code",
   "execution_count": 38,
   "metadata": {},
   "outputs": [
    {
     "name": "stdout",
     "output_type": "stream",
     "text": [
      "['percussion', 'supersonic', 'SanDiego', 'Diagnose']\n"
     ]
    }
   ],
   "source": [
    "word_list = [\"percussion\", \"supersonic\", \"San Diego\", \"Diagnose\", \"boy\", \"girl\", \"arc\"]\n",
    "\n",
    "def print_anagram(l):\n",
    "    # initialize a list\n",
    "    anagram_list = []\n",
    "    for word_1 in word_list: \n",
    "        w1 = word_1.replace(' ','')\n",
    "        for word_2 in word_list: \n",
    "            w2 = word_2.replace(' ','')\n",
    "            if w1 != w2 and (sorted(w1.lower())==sorted(w2.lower())):\n",
    "                anagram_list.append(w1)\n",
    "    print(anagram_list)\n",
    "\n",
    "print_anagram(word_list)"
   ]
  },
  {
   "cell_type": "markdown",
   "metadata": {},
   "source": [
    "#### Solution 2: Using Counter"
   ]
  },
  {
   "cell_type": "code",
   "execution_count": 43,
   "metadata": {},
   "outputs": [
    {
     "name": "stdout",
     "output_type": "stream",
     "text": [
      "True\n"
     ]
    }
   ],
   "source": [
    "from collections import Counter \n",
    "  \n",
    "def anagram(s1, s2): \n",
    "  \n",
    "    # Counter() returns a dictionary data \n",
    "    # structure which contains characters  \n",
    "    # of input as key and their frequencies \n",
    "    # as it's corresponding value \n",
    "    return Counter(s1) == Counter(s2) \n",
    "  \n",
    "\n",
    "s1 = 'abcd'\n",
    "s2 = 'dcab'\n",
    "print(anagram(s1, s2))"
   ]
  },
  {
   "cell_type": "markdown",
   "metadata": {},
   "source": [
    "### 10. Find duplicate lines in file. Do it in bash, in python, in mapreduce (your mapper function is fed lines of the file), in sql (the file is represented as a table with only one column “line”)"
   ]
  },
  {
   "cell_type": "markdown",
   "metadata": {},
   "source": [
    "### 11.An array contains n distinct numbers taken from 0, 1, 2, …, n, find the one that is missing from the array“content_actions” is a table that logs user activity."
   ]
  },
  {
   "cell_type": "markdown",
   "metadata": {},
   "source": [
    "### 12. Write a function that takes an array, splits the array into every possible set of two arrays, and prints out the max differences between the two array’s minima in O(n) time."
   ]
  },
  {
   "cell_type": "markdown",
   "metadata": {},
   "source": [
    "### 13.Given an array of integers, return indices of the two numbers such that they add up to a specific target. You may assume that each input would have exactly one solution, and you may not use the same element twice."
   ]
  },
  {
   "cell_type": "code",
   "execution_count": null,
   "metadata": {},
   "outputs": [],
   "source": [
    "#Two sum\n",
    "numbers = [2,7,11,15]\n",
    "target_goal = 9\n",
    "\n",
    "def twosum(nums,target):\n",
    "    seen = {}\n",
    "\n",
    "    for index, num in enumerate(nums):\n",
    "        other = target - num\n",
    "        if other in seen:\n",
    "            return [seen[other], index]\n",
    "        else:\n",
    "            seen[num] = index\n",
    "    return []\n",
    "\n",
    "result = twosum(numbers, target_goal)\n",
    "print(result)"
   ]
  },
  {
   "cell_type": "markdown",
   "metadata": {},
   "source": [
    "### 14. Write a function to remove vowels from a string\n"
   ]
  },
  {
   "cell_type": "code",
   "execution_count": 46,
   "metadata": {},
   "outputs": [
    {
     "name": "stdout",
     "output_type": "stream",
     "text": [
      "t tks  lt f crg t shw yr drms t smn ls.\n"
     ]
    }
   ],
   "source": [
    "sent = \"It takes a lot of courage to show your dreams to someone else.\"\n",
    "\n",
    "# import the module for regular expression (re)\n",
    "import re\n",
    "def rem_vowel(string):\n",
    "    return (re.sub(\"[aeiouAEIOU]\",\"\",string))\n",
    "\n",
    "print(rem_vowel(sent))"
   ]
  }
 ],
 "metadata": {
  "kernelspec": {
   "display_name": "Python 3",
   "language": "python",
   "name": "python3"
  },
  "language_info": {
   "codemirror_mode": {
    "name": "ipython",
    "version": 3
   },
   "file_extension": ".py",
   "mimetype": "text/x-python",
   "name": "python",
   "nbconvert_exporter": "python",
   "pygments_lexer": "ipython3",
   "version": "3.5.2"
  }
 },
 "nbformat": 4,
 "nbformat_minor": 4
}
